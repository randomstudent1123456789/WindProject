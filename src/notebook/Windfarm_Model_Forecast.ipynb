{
 "cells": [
  {
   "cell_type": "code",
   "execution_count": null,
   "id": "b9eacc94",
   "metadata": {
    "vscode": {
     "languageId": "plaintext"
    }
   },
   "outputs": [],
   "source": [
    "# Loading data\n",
    "filereal=pd.ExcelFile('Weather_data_From2021APR.csv')\n",
    "df_Data_From2021Apr=pd.read_excel(filereal,'Weather_data_From2021Apr')\n"
   ]
  }
 ],
 "metadata": {
  "language_info": {
   "name": "python"
  }
 },
 "nbformat": 4,
 "nbformat_minor": 5
}
